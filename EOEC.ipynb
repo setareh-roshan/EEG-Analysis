{
  "cells": [
    {
      "cell_type": "markdown",
      "metadata": {
        "id": "view-in-github",
        "colab_type": "text"
      },
      "source": [
        "<a href=\"https://colab.research.google.com/github/setareh-roshan/EEG-Analysis/blob/main/EOEC.ipynb\" target=\"_parent\"><img src=\"https://colab.research.google.com/assets/colab-badge.svg\" alt=\"Open In Colab\"/></a>"
      ]
    },
    {
      "cell_type": "code",
      "execution_count": null,
      "metadata": {
        "colab": {
          "base_uri": "https://localhost:8080/"
        },
        "id": "uTXKvtnTxl81",
        "outputId": "35ce5505-2c43-4a5f-db1e-10121078850a"
      },
      "outputs": [
        {
          "output_type": "stream",
          "name": "stdout",
          "text": [
            "Collecting MNE\n",
            "  Downloading mne-1.9.0-py3-none-any.whl.metadata (20 kB)\n",
            "Requirement already satisfied: decorator in /usr/local/lib/python3.11/dist-packages (from MNE) (4.4.2)\n",
            "Requirement already satisfied: jinja2 in /usr/local/lib/python3.11/dist-packages (from MNE) (3.1.5)\n",
            "Requirement already satisfied: lazy-loader>=0.3 in /usr/local/lib/python3.11/dist-packages (from MNE) (0.4)\n",
            "Requirement already satisfied: matplotlib>=3.6 in /usr/local/lib/python3.11/dist-packages (from MNE) (3.10.0)\n",
            "Requirement already satisfied: numpy<3,>=1.23 in /usr/local/lib/python3.11/dist-packages (from MNE) (1.26.4)\n",
            "Requirement already satisfied: packaging in /usr/local/lib/python3.11/dist-packages (from MNE) (24.2)\n",
            "Requirement already satisfied: pooch>=1.5 in /usr/local/lib/python3.11/dist-packages (from MNE) (1.8.2)\n",
            "Requirement already satisfied: scipy>=1.9 in /usr/local/lib/python3.11/dist-packages (from MNE) (1.13.1)\n",
            "Requirement already satisfied: tqdm in /usr/local/lib/python3.11/dist-packages (from MNE) (4.67.1)\n",
            "Requirement already satisfied: contourpy>=1.0.1 in /usr/local/lib/python3.11/dist-packages (from matplotlib>=3.6->MNE) (1.3.1)\n",
            "Requirement already satisfied: cycler>=0.10 in /usr/local/lib/python3.11/dist-packages (from matplotlib>=3.6->MNE) (0.12.1)\n",
            "Requirement already satisfied: fonttools>=4.22.0 in /usr/local/lib/python3.11/dist-packages (from matplotlib>=3.6->MNE) (4.55.4)\n",
            "Requirement already satisfied: kiwisolver>=1.3.1 in /usr/local/lib/python3.11/dist-packages (from matplotlib>=3.6->MNE) (1.4.8)\n",
            "Requirement already satisfied: pillow>=8 in /usr/local/lib/python3.11/dist-packages (from matplotlib>=3.6->MNE) (11.1.0)\n",
            "Requirement already satisfied: pyparsing>=2.3.1 in /usr/local/lib/python3.11/dist-packages (from matplotlib>=3.6->MNE) (3.2.1)\n",
            "Requirement already satisfied: python-dateutil>=2.7 in /usr/local/lib/python3.11/dist-packages (from matplotlib>=3.6->MNE) (2.8.2)\n",
            "Requirement already satisfied: platformdirs>=2.5.0 in /usr/local/lib/python3.11/dist-packages (from pooch>=1.5->MNE) (4.3.6)\n",
            "Requirement already satisfied: requests>=2.19.0 in /usr/local/lib/python3.11/dist-packages (from pooch>=1.5->MNE) (2.32.3)\n",
            "Requirement already satisfied: MarkupSafe>=2.0 in /usr/local/lib/python3.11/dist-packages (from jinja2->MNE) (3.0.2)\n",
            "Requirement already satisfied: six>=1.5 in /usr/local/lib/python3.11/dist-packages (from python-dateutil>=2.7->matplotlib>=3.6->MNE) (1.17.0)\n",
            "Requirement already satisfied: charset-normalizer<4,>=2 in /usr/local/lib/python3.11/dist-packages (from requests>=2.19.0->pooch>=1.5->MNE) (3.4.1)\n",
            "Requirement already satisfied: idna<4,>=2.5 in /usr/local/lib/python3.11/dist-packages (from requests>=2.19.0->pooch>=1.5->MNE) (3.10)\n",
            "Requirement already satisfied: urllib3<3,>=1.21.1 in /usr/local/lib/python3.11/dist-packages (from requests>=2.19.0->pooch>=1.5->MNE) (2.3.0)\n",
            "Requirement already satisfied: certifi>=2017.4.17 in /usr/local/lib/python3.11/dist-packages (from requests>=2.19.0->pooch>=1.5->MNE) (2024.12.14)\n",
            "Downloading mne-1.9.0-py3-none-any.whl (7.4 MB)\n",
            "\u001b[2K   \u001b[90m━━━━━━━━━━━━━━━━━━━━━━━━━━━━━━━━━━━━━━━━\u001b[0m \u001b[32m7.4/7.4 MB\u001b[0m \u001b[31m54.0 MB/s\u001b[0m eta \u001b[36m0:00:00\u001b[0m\n",
            "\u001b[?25hInstalling collected packages: MNE\n",
            "Successfully installed MNE-1.9.0\n"
          ]
        }
      ],
      "source": [
        "!pip install MNE"
      ]
    },
    {
      "cell_type": "code",
      "execution_count": null,
      "metadata": {
        "id": "rinW6Ssgx2VT"
      },
      "outputs": [],
      "source": [
        "import pandas as pd\n",
        "import mne\n",
        "import numpy as np\n",
        "from scipy.signal import find_peaks, welch\n",
        "import matplotlib.pyplot as plt"
      ]
    },
    {
      "cell_type": "code",
      "execution_count": null,
      "metadata": {
        "colab": {
          "base_uri": "https://localhost:8080/"
        },
        "id": "5BUEPp5sxoiB",
        "outputId": "ab71a53a-5de6-4a13-8ade-0beda5c9500a"
      },
      "outputs": [
        {
          "output_type": "stream",
          "name": "stdout",
          "text": [
            "      O2     T8   EARR  CH33\n",
            "0  13.19  -3.70  -0.84   0.0\n",
            "1  18.15  -4.89   3.48   0.0\n",
            "2  21.98  -7.52   8.68   0.0\n",
            "3  25.81 -10.74  11.78   0.0\n",
            "4  30.91 -12.44  11.05   0.0\n"
          ]
        },
        {
          "output_type": "stream",
          "name": "stderr",
          "text": [
            "<ipython-input-10-a8ccf40c188c>:2: FutureWarning: The 'delim_whitespace' keyword in pd.read_csv is deprecated and will be removed in a future version. Use ``sep='\\s+'`` instead\n",
            "  df = pd.read_csv(file_path, delim_whitespace=True, header=0)\n"
          ]
        }
      ],
      "source": [
        "file_path = \"/content/33_Eye.txt\"\n",
        "df = pd.read_csv(file_path, delim_whitespace=True, header=0)\n",
        "\n",
        "print(df.head())"
      ]
    },
    {
      "cell_type": "code",
      "execution_count": null,
      "metadata": {
        "id": "nqP4lhGEyHbN"
      },
      "outputs": [],
      "source": [
        "data = df.to_numpy().T\n",
        "\n",
        "data = data.astype(float)"
      ]
    },
    {
      "cell_type": "code",
      "execution_count": null,
      "metadata": {
        "colab": {
          "base_uri": "https://localhost:8080/"
        },
        "id": "NAOA3hNiy-cq",
        "outputId": "0a32e177-e806-4745-94c6-3f95559ca006"
      },
      "outputs": [
        {
          "output_type": "stream",
          "name": "stdout",
          "text": [
            "Creating RawArray with float64 data, n_channels=4, n_times=133785\n",
            "    Range : 0 ... 133784 =      0.000 ...   267.568 secs\n",
            "Ready.\n"
          ]
        }
      ],
      "source": [
        "ch_names = []\n",
        "for i, col in enumerate(df.columns): ch_names.append(col)\n",
        "ch_types = ['eeg'] * (len(ch_names) - 1) + ['stim']\n",
        "sfreq = 500\n",
        "info = mne.create_info(ch_names=ch_names, sfreq=sfreq, ch_types=ch_types)\n",
        "raw = mne.io.RawArray(data, info)"
      ]
    },
    {
      "cell_type": "code",
      "source": [
        "raw.notch_filter(freqs=[50, 100, 150, 200])"
      ],
      "metadata": {
        "id": "of5OUtJpXZ6e",
        "colab": {
          "base_uri": "https://localhost:8080/",
          "height": 649
        },
        "outputId": "4ebe3bcc-2df2-46cd-b4c5-c4f686fefced"
      },
      "execution_count": null,
      "outputs": [
        {
          "output_type": "stream",
          "name": "stdout",
          "text": [
            "Filtering raw data in 1 contiguous segment\n",
            "Setting up band-stop filter\n",
            "\n",
            "FIR filter parameters\n",
            "---------------------\n",
            "Designing a one-pass, zero-phase, non-causal bandstop filter:\n",
            "- Windowed time-domain design (firwin) method\n",
            "- Hamming window with 0.0194 passband ripple and 53 dB stopband attenuation\n",
            "- Lower transition bandwidth: 0.50 Hz\n",
            "- Upper transition bandwidth: 0.50 Hz\n",
            "- Filter length: 3301 samples (6.602 s)\n",
            "\n"
          ]
        },
        {
          "output_type": "execute_result",
          "data": {
            "text/plain": [
              "<RawArray | 4 x 133785 (267.6 s), ~4.1 MiB, data loaded>"
            ],
            "text/html": [
              "<script type=\"text/javascript\">\n",
              "    // must be `var` (not `const`) because this can get embedded multiple times on a page\n",
              "var toggleVisibility = (className) => {\n",
              "\n",
              "    const elements = document.querySelectorAll(`.${className}`);\n",
              "\n",
              "    elements.forEach(element => {\n",
              "        if (element.classList.contains(\"mne-repr-section-header\")) {\n",
              "            return  // Don't collapse the section header row\n",
              "        }\n",
              "        element.classList.toggle(\"mne-repr-collapsed\");\n",
              "    });\n",
              "\n",
              "    // trigger caret to rotate\n",
              "    var sel = `.mne-repr-section-header.${className} > th.mne-repr-section-toggle > button`;\n",
              "    const button = document.querySelector(sel);\n",
              "    button.classList.toggle(\"collapsed\");\n",
              "\n",
              "    // adjust tooltip\n",
              "    sel = `tr.mne-repr-section-header.${className}`;\n",
              "    const secHeadRow = document.querySelector(sel);\n",
              "    secHeadRow.classList.toggle(\"collapsed\");\n",
              "    secHeadRow.title = secHeadRow.title === \"Hide section\" ? \"Show section\" : \"Hide section\";\n",
              "}\n",
              "</script>\n",
              "\n",
              "<style type=\"text/css\">\n",
              "    /*\n",
              "Styles in this section apply both to the sphinx-built website docs and to notebooks\n",
              "rendered in an IDE or in Jupyter. In our web docs, styles here are complemented by\n",
              "doc/_static/styles.css and other CSS files (e.g. from the sphinx theme, sphinx-gallery,\n",
              "or bootstrap). In IDEs/Jupyter, those style files are unavailable, so only the rules in\n",
              "this file apply (plus whatever default styling the IDE applies).\n",
              "*/\n",
              ".mne-repr-table {\n",
              "    display: inline;  /* prevent using full container width */\n",
              "}\n",
              ".mne-repr-table tr.mne-repr-section-header > th {\n",
              "    padding-top: 1rem;\n",
              "    text-align: left;\n",
              "    vertical-align: middle;\n",
              "}\n",
              ".mne-repr-section-toggle > button {\n",
              "    all: unset;\n",
              "    display: block;\n",
              "    height: 1rem;\n",
              "    width: 1rem;\n",
              "}\n",
              ".mne-repr-section-toggle > button > svg {\n",
              "    height: 60%;\n",
              "}\n",
              "\n",
              "/* transition (rotation) effects on the collapser button */\n",
              ".mne-repr-section-toggle > button.collapsed > svg {\n",
              "    transition: 0.1s ease-out;\n",
              "    transform: rotate(-90deg);\n",
              "}\n",
              ".mne-repr-section-toggle > button:not(.collapsed) > svg {\n",
              "    transition: 0.1s ease-out;\n",
              "    transform: rotate(0deg);\n",
              "}\n",
              "\n",
              "/* hide collapsed table rows */\n",
              ".mne-repr-collapsed {\n",
              "    display: none;\n",
              "}\n",
              "\n",
              "\n",
              "@layer {\n",
              "    /*\n",
              "    Selectors in a `@layer` will always be lower-precedence than selectors outside the\n",
              "    layer. So even though e.g. `div.output_html` is present in the sphinx-rendered\n",
              "    website docs, the styles here won't take effect there as long as some other rule\n",
              "    somewhere in the page's CSS targets the same element.\n",
              "\n",
              "    In IDEs or Jupyter notebooks, though, the CSS files from the sphinx theme,\n",
              "    sphinx-gallery, and bootstrap are unavailable, so these styles will apply.\n",
              "\n",
              "    Notes:\n",
              "\n",
              "    - the selector `.accordion-body` is for MNE Reports\n",
              "    - the selector `.output_html` is for VSCode's notebook interface\n",
              "    - the selector `.jp-RenderedHTML` is for Jupyter notebook\n",
              "    - variables starting with `--theme-` are VSCode-specific.\n",
              "    - variables starting with `--jp-` are Jupyter styles, *some of which* are also\n",
              "      available in VSCode. Here we try the `--theme-` variable first, then fall back to\n",
              "      the `--jp-` ones.\n",
              "    */\n",
              "    .mne-repr-table {\n",
              "        --mne-toggle-color: var(--theme-foreground, var(--jp-ui-font-color1));\n",
              "        --mne-button-bg-color: var(--theme-button-background, var(--jp-info-color0, var(--jp-content-link-color)));\n",
              "        --mne-button-fg-color: var(--theme-button-foreground, var(--jp-ui-inverse-font-color0, var(--jp-editor-background)));\n",
              "        --mne-button-hover-bg-color: var(--theme-button-hover-background, var(--jp-info-color1));\n",
              "        --mne-button-radius: var(--jp-border-radius, 0.25rem);\n",
              "    }\n",
              "    /* chevron position/alignment; in VSCode it looks ok without adjusting */\n",
              "    .accordion-body .mne-repr-section-toggle > button,\n",
              "    .jp-RenderedHTML .mne-repr-section-toggle > button {\n",
              "        padding: 0 0 45% 25% !important;\n",
              "    }\n",
              "    /* chevron color; MNE Report doesn't have light/dark mode */\n",
              "    div.output_html .mne-repr-section-toggle > button > svg > path,\n",
              "    .jp-RenderedHTML .mne-repr-section-toggle > button > svg > path {\n",
              "        fill: var(--mne-toggle-color);\n",
              "    }\n",
              "    .accordion-body .mne-ch-names-btn,\n",
              "    div.output_html .mne-ch-names-btn,\n",
              "    .jp-RenderedHTML .mne-ch-names-btn {\n",
              "        -webkit-border-radius: var(--mne-button-radius);\n",
              "        -moz-border-radius: var(--mne-button-radius);\n",
              "        border-radius: var(--mne-button-radius);\n",
              "        border: none;\n",
              "        background-image: none;\n",
              "        background-color: var(--mne-button-bg-color);\n",
              "        color: var(--mne-button-fg-color);\n",
              "        font-size: inherit;\n",
              "        min-width: 1.5rem;\n",
              "        padding: 0.25rem;\n",
              "        text-align: center;\n",
              "        text-decoration: none;\n",
              "    }\n",
              "    .accordion-body .mne-ch-names-btn:hover,\n",
              "    div.output_html .mne.ch-names-btn:hover,\n",
              "    .jp-RenderedHTML .mne-ch-names-btn:hover {\n",
              "        background-color: var(--mne-button-hover-bg-color);\n",
              "        text-decoration: underline;\n",
              "    }\n",
              "    .accordion-body .mne-ch-names-btn:focus-visible,\n",
              "    div.output_html .mne-ch-names-btn:focus-visible,\n",
              "    .jp-RenderedHTML .mne-ch-names-btn:focus-visible {\n",
              "        outline: 0.1875rem solid var(--mne-button-bg-color) !important;\n",
              "        outline-offset: 0.1875rem !important;\n",
              "    }\n",
              "}\n",
              "</style>\n",
              "\n",
              "\n",
              "\n",
              "<table class=\"table mne-repr-table\">\n",
              "    \n",
              "\n",
              "\n",
              "\n",
              "\n",
              "\n",
              "\n",
              "\n",
              "<tr class=\"mne-repr-section-header general-55c87eae-2ea4-4b0d-a990-dce20843ecb9\"\n",
              "     title=\"Hide section\" \n",
              "    onclick=\"toggleVisibility('general-55c87eae-2ea4-4b0d-a990-dce20843ecb9')\">\n",
              "    <th class=\"mne-repr-section-toggle\">\n",
              "        <button >\n",
              "            <svg xmlns=\"http://www.w3.org/2000/svg\" viewBox=\"0 0 512 512\"><!--!Font Awesome Free 6.6.0 by @fontawesome - https://fontawesome.com License - https://fontawesome.com/license/free Copyright 2024 Fonticons, Inc.--><path d=\"M233.4 406.6c12.5 12.5 32.8 12.5 45.3 0l192-192c12.5-12.5 12.5-32.8 0-45.3s-32.8-12.5-45.3 0L256 338.7 86.6 169.4c-12.5-12.5-32.8-12.5-45.3 0s-12.5 32.8 0 45.3l192 192z\"/></svg>\n",
              "        </button>\n",
              "    </th>\n",
              "    <th colspan=\"2\">\n",
              "        <strong>General</strong>\n",
              "    </th>\n",
              "</tr>\n",
              "\n",
              "\n",
              "<tr class=\"repr-element general-55c87eae-2ea4-4b0d-a990-dce20843ecb9 \">\n",
              "    <td class=\"mne-repr-section-toggle\"></td>\n",
              "    <td>MNE object type</td>\n",
              "    <td>RawArray</td>\n",
              "</tr>\n",
              "<tr class=\"repr-element general-55c87eae-2ea4-4b0d-a990-dce20843ecb9 \">\n",
              "    <td class=\"mne-repr-section-toggle\"></td>\n",
              "    <td>Measurement date</td>\n",
              "    \n",
              "    <td>Unknown</td>\n",
              "    \n",
              "</tr>\n",
              "<tr class=\"repr-element general-55c87eae-2ea4-4b0d-a990-dce20843ecb9 \">\n",
              "    <td class=\"mne-repr-section-toggle\"></td>\n",
              "    <td>Participant</td>\n",
              "    \n",
              "    <td>Unknown</td>\n",
              "    \n",
              "</tr>\n",
              "<tr class=\"repr-element general-55c87eae-2ea4-4b0d-a990-dce20843ecb9 \">\n",
              "    <td class=\"mne-repr-section-toggle\"></td>\n",
              "    <td>Experimenter</td>\n",
              "    \n",
              "    <td>Unknown</td>\n",
              "    \n",
              "</tr>\n",
              "    \n",
              "\n",
              "\n",
              "\n",
              "\n",
              "\n",
              "\n",
              "\n",
              "<tr class=\"mne-repr-section-header acquisition-e81833fd-63a5-4fa9-917b-6f9d126eb836\"\n",
              "     title=\"Hide section\" \n",
              "    onclick=\"toggleVisibility('acquisition-e81833fd-63a5-4fa9-917b-6f9d126eb836')\">\n",
              "    <th class=\"mne-repr-section-toggle\">\n",
              "        <button >\n",
              "            <svg xmlns=\"http://www.w3.org/2000/svg\" viewBox=\"0 0 512 512\"><!--!Font Awesome Free 6.6.0 by @fontawesome - https://fontawesome.com License - https://fontawesome.com/license/free Copyright 2024 Fonticons, Inc.--><path d=\"M233.4 406.6c12.5 12.5 32.8 12.5 45.3 0l192-192c12.5-12.5 12.5-32.8 0-45.3s-32.8-12.5-45.3 0L256 338.7 86.6 169.4c-12.5-12.5-32.8-12.5-45.3 0s-12.5 32.8 0 45.3l192 192z\"/></svg>\n",
              "        </button>\n",
              "    </th>\n",
              "    <th colspan=\"2\">\n",
              "        <strong>Acquisition</strong>\n",
              "    </th>\n",
              "</tr>\n",
              "\n",
              "\n",
              "<tr class=\"repr-element acquisition-e81833fd-63a5-4fa9-917b-6f9d126eb836 \">\n",
              "    <td class=\"mne-repr-section-toggle\"></td>\n",
              "    <td>Duration</td>\n",
              "    <td>00:04:28 (HH:MM:SS)</td>\n",
              "</tr>\n",
              "\n",
              "\n",
              "\n",
              "\n",
              "\n",
              "\n",
              "\n",
              "\n",
              "<tr class=\"repr-element acquisition-e81833fd-63a5-4fa9-917b-6f9d126eb836 \">\n",
              "    <td class=\"mne-repr-section-toggle\"></td>\n",
              "    <td>Sampling frequency</td>\n",
              "    <td>500.00 Hz</td>\n",
              "</tr>\n",
              "\n",
              "\n",
              "<tr class=\"repr-element acquisition-e81833fd-63a5-4fa9-917b-6f9d126eb836 \">\n",
              "    <td class=\"mne-repr-section-toggle\"></td>\n",
              "    <td>Time points</td>\n",
              "    <td>133,785</td>\n",
              "</tr>\n",
              "\n",
              "\n",
              "    \n",
              "\n",
              "\n",
              "\n",
              "\n",
              "\n",
              "\n",
              "\n",
              "<tr class=\"mne-repr-section-header channels-eabe97cd-c3a5-4893-bf01-0a61810a509c\"\n",
              "     title=\"Hide section\" \n",
              "    onclick=\"toggleVisibility('channels-eabe97cd-c3a5-4893-bf01-0a61810a509c')\">\n",
              "    <th class=\"mne-repr-section-toggle\">\n",
              "        <button >\n",
              "            <svg xmlns=\"http://www.w3.org/2000/svg\" viewBox=\"0 0 512 512\"><!--!Font Awesome Free 6.6.0 by @fontawesome - https://fontawesome.com License - https://fontawesome.com/license/free Copyright 2024 Fonticons, Inc.--><path d=\"M233.4 406.6c12.5 12.5 32.8 12.5 45.3 0l192-192c12.5-12.5 12.5-32.8 0-45.3s-32.8-12.5-45.3 0L256 338.7 86.6 169.4c-12.5-12.5-32.8-12.5-45.3 0s-12.5 32.8 0 45.3l192 192z\"/></svg>\n",
              "        </button>\n",
              "    </th>\n",
              "    <th colspan=\"2\">\n",
              "        <strong>Channels</strong>\n",
              "    </th>\n",
              "</tr>\n",
              "\n",
              "\n",
              "    \n",
              "<tr class=\"repr-element channels-eabe97cd-c3a5-4893-bf01-0a61810a509c \">\n",
              "    <td class=\"mne-repr-section-toggle\"></td>\n",
              "    <td>EEG</td>\n",
              "    <td>\n",
              "        <button class=\"mne-ch-names-btn sd-sphinx-override sd-btn sd-btn-info sd-text-wrap sd-shadow-sm\" onclick=\"alert('Good EEG:\\n\\nO2, T8, EARR')\" title=\"(Click to open in popup)&#13;&#13;O2, T8, EARR\">\n",
              "            3\n",
              "        </button>\n",
              "\n",
              "        \n",
              "    </td>\n",
              "</tr>\n",
              "\n",
              "    \n",
              "<tr class=\"repr-element channels-eabe97cd-c3a5-4893-bf01-0a61810a509c \">\n",
              "    <td class=\"mne-repr-section-toggle\"></td>\n",
              "    <td>Stimulus</td>\n",
              "    <td>\n",
              "        <button class=\"mne-ch-names-btn sd-sphinx-override sd-btn sd-btn-info sd-text-wrap sd-shadow-sm\" onclick=\"alert('Good Stimulus:\\n\\nCH33')\" title=\"(Click to open in popup)&#13;&#13;CH33\">\n",
              "            1\n",
              "        </button>\n",
              "\n",
              "        \n",
              "    </td>\n",
              "</tr>\n",
              "\n",
              "\n",
              "<tr class=\"repr-element channels-eabe97cd-c3a5-4893-bf01-0a61810a509c \">\n",
              "    <td class=\"mne-repr-section-toggle\"></td>\n",
              "    <td>Head & sensor digitization</td>\n",
              "    \n",
              "    <td>Not available</td>\n",
              "    \n",
              "</tr>\n",
              "    \n",
              "\n",
              "\n",
              "\n",
              "\n",
              "\n",
              "\n",
              "\n",
              "<tr class=\"mne-repr-section-header filters-645335f7-3d79-4f9d-bf19-6c9f0e73c89c\"\n",
              "     title=\"Hide section\" \n",
              "    onclick=\"toggleVisibility('filters-645335f7-3d79-4f9d-bf19-6c9f0e73c89c')\">\n",
              "    <th class=\"mne-repr-section-toggle\">\n",
              "        <button >\n",
              "            <svg xmlns=\"http://www.w3.org/2000/svg\" viewBox=\"0 0 512 512\"><!--!Font Awesome Free 6.6.0 by @fontawesome - https://fontawesome.com License - https://fontawesome.com/license/free Copyright 2024 Fonticons, Inc.--><path d=\"M233.4 406.6c12.5 12.5 32.8 12.5 45.3 0l192-192c12.5-12.5 12.5-32.8 0-45.3s-32.8-12.5-45.3 0L256 338.7 86.6 169.4c-12.5-12.5-32.8-12.5-45.3 0s-12.5 32.8 0 45.3l192 192z\"/></svg>\n",
              "        </button>\n",
              "    </th>\n",
              "    <th colspan=\"2\">\n",
              "        <strong>Filters</strong>\n",
              "    </th>\n",
              "</tr>\n",
              "\n",
              "\n",
              "<tr class=\"repr-element filters-645335f7-3d79-4f9d-bf19-6c9f0e73c89c \">\n",
              "    <td class=\"mne-repr-section-toggle\"></td>\n",
              "    <td>Highpass</td>\n",
              "    <td>0.00 Hz</td>\n",
              "</tr>\n",
              "\n",
              "\n",
              "<tr class=\"repr-element filters-645335f7-3d79-4f9d-bf19-6c9f0e73c89c \">\n",
              "    <td class=\"mne-repr-section-toggle\"></td>\n",
              "    <td>Lowpass</td>\n",
              "    <td>250.00 Hz</td>\n",
              "</tr>\n",
              "\n",
              "\n",
              "</table>"
            ]
          },
          "metadata": {},
          "execution_count": 15
        }
      ]
    },
    {
      "cell_type": "code",
      "source": [
        "plt.plot(raw.get_data()[-1,:])"
      ],
      "metadata": {
        "colab": {
          "base_uri": "https://localhost:8080/",
          "height": 448
        },
        "id": "GX5elGu7lH-J",
        "outputId": "b0439c1d-45af-4e9d-f588-76a283e99380"
      },
      "execution_count": null,
      "outputs": [
        {
          "output_type": "execute_result",
          "data": {
            "text/plain": [
              "[<matplotlib.lines.Line2D at 0x78866e0fed10>]"
            ]
          },
          "metadata": {},
          "execution_count": 16
        },
        {
          "output_type": "display_data",
          "data": {
            "text/plain": [
              "<Figure size 640x480 with 1 Axes>"
            ],
            "image/png": "[encoded data removed]"
          },
          "metadata": {}
        }
      ]
    },
    {
      "cell_type": "code",
      "execution_count": null,
      "metadata": {
        "id": "bLWRIHfOy0U8"
      },
      "outputs": [],
      "source": [
        "def findingAnnotations(trigger_channel, TOI, error, sfreq):\n",
        "    \"\"\"\n",
        "    Identifies peaks in the trigger channel that occur at intervals matching the time of interest (TOM),\n",
        "    with a margin of error.\n",
        "\n",
        "    Parameters:\n",
        "    - trigger_channel (array-like): Input signal to analyze for trigger events.\n",
        "    - TOI (float): Time of interest in seconds (e.g., checking for events occurring every 60 seconds).\n",
        "    - error (float): Acceptable error margin in seconds.\n",
        "    - sfreq (float): Sampling frequency of the signal in Hz.\n",
        "\n",
        "    Returns:\n",
        "    - array: Indices of peaks in the trigger_channel that occur within the specified timing window.\n",
        "    \"\"\"\n",
        "\n",
        "    # Find all peaks in the trigger channel\n",
        "    peaks, _ = find_peaks(trigger_channel)\n",
        "\n",
        "    # Calculate the time differences between consecutive peaks (in seconds)\n",
        "    diff_of_elements = np.diff(peaks) / sfreq\n",
        "\n",
        "    # Identify indices of peaks where the time differences match the time of interest (TOI ± error)\n",
        "    event_indices = np.where((diff_of_elements > TOI - error) & (diff_of_elements <= TOI + error))[0]\n",
        "\n",
        "    # Return the peaks corresponding to the matched event indices\n",
        "    return peaks[event_indices]"
      ]
    },
    {
      "cell_type": "markdown",
      "source": [],
      "metadata": {
        "id": "OCoOrtItGcIq"
      }
    },
    {
      "cell_type": "code",
      "execution_count": null,
      "metadata": {
        "id": "hBqyXtftERYY"
      },
      "outputs": [],
      "source": [
        "events = findingAnnotations(raw.get_data()[-1,:], 60, 6, sfreq)\n",
        "events = np.column_stack((events, np.zeros(len(events), dtype=int), np.ones(len(events), dtype=int)))"
      ]
    },
    {
      "cell_type": "code",
      "source": [
        "events"
      ],
      "metadata": {
        "colab": {
          "base_uri": "https://localhost:8080/"
        },
        "id": "ua_k2fkRgNLZ",
        "outputId": "66b3581d-20b8-449b-8bb1-258270abcc5e"
      },
      "execution_count": null,
      "outputs": [
        {
          "output_type": "execute_result",
          "data": {
            "text/plain": [
              "array([[  7482,      0,      1],\n",
              "       [ 40421,      0,      1],\n",
              "       [ 70675,      0,      1],\n",
              "       [102330,      0,      1]])"
            ]
          },
          "metadata": {},
          "execution_count": 26
        }
      ]
    },
    {
      "cell_type": "code",
      "source": [
        "epochs = mne.Epochs(raw, events=events, tmin=1, tmax=60, baseline=None)"
      ],
      "metadata": {
        "colab": {
          "base_uri": "https://localhost:8080/"
        },
        "id": "yZNm5hHSAGEJ",
        "outputId": "ae9bcb17-a4d0-469d-df84-75fd67b04ee8"
      },
      "execution_count": null,
      "outputs": [
        {
          "output_type": "stream",
          "name": "stdout",
          "text": [
            "Not setting metadata\n",
            "4 matching events found\n",
            "No baseline correction applied\n",
            "0 projection items activated\n"
          ]
        }
      ]
    },
    {
      "cell_type": "code",
      "source": [
        "psd, freqs = mne.time_frequency.psd_array_welch(epochs.get_data(), sfreq=500, fmin=0.5, fmax=50, n_fft = 1000, n_per_seg = 2000)"
      ],
      "metadata": {
        "colab": {
          "base_uri": "https://localhost:8080/"
        },
        "id": "0qQXCISrByTV",
        "outputId": "8ab72432-9bb1-455b-f639-ea1cea4b1a0b"
      },
      "execution_count": null,
      "outputs": [
        {
          "output_type": "stream",
          "name": "stdout",
          "text": [
            "Using data from preloaded Raw for 4 events and 14001 original time points ...\n",
            "0 bad epochs dropped\n",
            "Effective window size : 2.000 (s)\n"
          ]
        }
      ]
    },
    {
      "cell_type": "code",
      "source": [
        "psd.shape"
      ],
      "metadata": {
        "colab": {
          "base_uri": "https://localhost:8080/"
        },
        "id": "Pbl6ERUcTTsF",
        "outputId": "2db9408d-c7e1-4d40-daab-01432c6fbd3a"
      },
      "execution_count": null,
      "outputs": [
        {
          "output_type": "execute_result",
          "data": {
            "text/plain": [
              "(4, 4, 100)"
            ]
          },
          "metadata": {},
          "execution_count": 30
        }
      ]
    },
    {
      "cell_type": "code",
      "source": [
        "plt.figure(figsize=(10, 6))\n",
        "plt.subplot(2,2,1)\n",
        "plt.plot(freqs, psd[2,1,:], label='')\n",
        "plt.xlim(0,40)  # PSD of the first epoch\n",
        "plt.subplot(2,2,2)\n",
        "plt.plot(freqs, psd[2,0,:], label='')  # PSD of the first epoch\n",
        "plt.xlim(0,50)\n",
        "plt.title('PSD of the First Epoch')\n",
        "plt.xlabel('Frequency (Hz)')\n",
        "plt.ylabel('Power Spectral Density')\n",
        "plt.legend(loc='upper right')\n",
        "plt.grid()\n",
        "plt.show()"
      ],
      "metadata": {
        "colab": {
          "base_uri": "https://localhost:8080/",
          "height": 368
        },
        "id": "oyIcXsNcB3EO",
        "outputId": "cbc08a3d-54b4-40bb-bc13-4640f950bdc8"
      },
      "execution_count": null,
      "outputs": [
        {
          "output_type": "stream",
          "name": "stderr",
          "text": [
            "<ipython-input-31-59d04f3f0e90>:11: UserWarning: No artists with labels found to put in legend.  Note that artists whose label start with an underscore are ignored when legend() is called with no argument.\n",
            "  plt.legend(loc='upper right')\n"
          ]
        },
        {
          "output_type": "display_data",
          "data": {
            "text/plain": [
              "<Figure size 1000x600 with 2 Axes>"
            ],
            "image/png": "[encoded data removed]"
          },
          "metadata": {}
        }
      ]
    },
    {
      "cell_type": "code",
      "source": [
        "def calculate_alpha_ratio(signal, fs, alpha_band=(8, 12), total_band=(0.5, 50)):\n",
        "    \"\"\"\n",
        "    Calculate the alpha power ratio of a signal.\n",
        "\n",
        "    Parameters:\n",
        "        signal (array): The input signal.\n",
        "        fs (float): Sampling frequency in Hz.\n",
        "        alpha_band (tuple): Frequency range for the alpha band (low, high) in Hz.\n",
        "        total_band (tuple): Frequency range for the total power calculation (low, high) in Hz.\n",
        "\n",
        "    Returns:\n",
        "        alpha_ratio (float): Ratio of alpha band power to total power.\n",
        "    \"\"\"\n",
        "    # Compute the PSD using Welch's method\n",
        "    freqs, psd = welch(signal, fs=fs, nperseg=2000)\n",
        "\n",
        "    # Calculate alpha band power\n",
        "    alpha_indices = np.logical_and(freqs >= alpha_band[0], freqs <= alpha_band[1])\n",
        "    alpha_power = np.trapz(psd[alpha_indices], freqs[alpha_indices])\n",
        "\n",
        "    # Calculate total power\n",
        "    total_indices = np.logical_and(freqs >= total_band[0], freqs <= total_band[1])\n",
        "    total_power = np.trapz(psd[total_indices], freqs[total_indices])\n",
        "\n",
        "    # Calculate alpha ratio\n",
        "    alpha_ratio = alpha_power / total_power\n",
        "\n",
        "    return alpha_power, alpha_ratio"
      ],
      "metadata": {
        "id": "ei6pm1FqNGFk"
      },
      "execution_count": null,
      "outputs": []
    },
    {
      "cell_type": "markdown",
      "source": [
        "We need to calculate the alpha power of EyeClose to EyeOpen. To do so, in the next cells, first the alpha power of EyeClose (even epochs) is calculated, second the power of EyeClose is calculated (odd epochs).\n",
        "\n",
        "\n",
        "The dimension of the epochs data is 3. The first dimension demonstrates the channel_number, the second dimensions shows the epoch number, and the last one are data_ponits in that specific epoch."
      ],
      "metadata": {
        "id": "A1zfp0GWjJ77"
      }
    },
    {
      "cell_type": "markdown",
      "source": [],
      "metadata": {
        "id": "9DuF4Q2XbjTF"
      }
    },
    {
      "cell_type": "code",
      "source": [
        "alpha_ratio_whole = np.zeros((2,len(raw.ch_names)-1), dtype = 'float32')\n",
        "for i in range(len(raw.ch_names)-1):\n",
        "    alpha_power_EC, alpha_ratio_EC = calculate_alpha_ratio(epochs.get_data()[i,0,:], sfreq)\n",
        "    alpha_power_EO, alpha_ratio_EO = calculate_alpha_ratio(epochs.get_data()[i,1,:], sfreq)\n",
        "\n",
        "    alpha_ratio_whole[0, i] = alpha_ratio_EC/alpha_ratio_EO\n",
        "\n",
        "    alpha_power_EC, alpha_ratio_EC = calculate_alpha_ratio(epochs.get_data()[i,2,:], sfreq)\n",
        "    alpha_power_EO, alpha_ratio_EO = calculate_alpha_ratio(epochs.get_data()[i,3,:], sfreq)\n",
        "\n",
        "    alpha_ratio_whole[1, i] = alpha_ratio_EC/alpha_ratio_EO\n"
      ],
      "metadata": {
        "colab": {
          "base_uri": "https://localhost:8080/"
        },
        "id": "C7aGCzhvZnG3",
        "outputId": "bc478dbf-f74e-473a-d394-7a4c6f4b3704"
      },
      "execution_count": null,
      "outputs": [
        {
          "output_type": "stream",
          "name": "stdout",
          "text": [
            "Using data from preloaded Raw for 4 events and 14001 original time points ...\n",
            "Using data from preloaded Raw for 4 events and 14001 original time points ...\n",
            "Using data from preloaded Raw for 4 events and 14001 original time points ...\n",
            "Using data from preloaded Raw for 4 events and 14001 original time points ...\n",
            "Using data from preloaded Raw for 4 events and 14001 original time points ...\n",
            "Using data from preloaded Raw for 4 events and 14001 original time points ...\n",
            "Using data from preloaded Raw for 4 events and 14001 original time points ...\n",
            "Using data from preloaded Raw for 4 events and 14001 original time points ...\n",
            "Using data from preloaded Raw for 4 events and 14001 original time points ...\n",
            "Using data from preloaded Raw for 4 events and 14001 original time points ...\n",
            "Using data from preloaded Raw for 4 events and 14001 original time points ...\n",
            "Using data from preloaded Raw for 4 events and 14001 original time points ...\n"
          ]
        }
      ]
    },
    {
      "cell_type": "markdown",
      "source": [
        "2*Ch_number  and 2 is:\n",
        "0----> two first epochs (close/open)\n",
        "1----> two second epochs (close/open)"
      ],
      "metadata": {
        "id": "jkb7BV43cKen"
      }
    },
    {
      "cell_type": "code",
      "source": [
        "alpha_ratio_whole"
      ],
      "metadata": {
        "colab": {
          "base_uri": "https://localhost:8080/"
        },
        "id": "he7v1xHRbQY1",
        "outputId": "59751698-cb46-4fcd-d299-74d290ee91de"
      },
      "execution_count": null,
      "outputs": [
        {
          "output_type": "execute_result",
          "data": {
            "text/plain": [
              "array([[2.493456 , 1.64513  , 2.378447 ],\n",
              "       [1.3944534, 1.1658449, 1.2589406]], dtype=float32)"
            ]
          },
          "metadata": {},
          "execution_count": 34
        }
      ]
    },
    {
      "cell_type": "code",
      "source": [
        "raw.ch_names"
      ],
      "metadata": {
        "colab": {
          "base_uri": "https://localhost:8080/"
        },
        "id": "RsFePT2zcAy-",
        "outputId": "ed08ed13-5801-4706-c4cc-b97a356a58af"
      },
      "execution_count": null,
      "outputs": [
        {
          "output_type": "execute_result",
          "data": {
            "text/plain": [
              "['O2', 'T8', 'EARR', 'CH33']"
            ]
          },
          "metadata": {},
          "execution_count": 35
        }
      ]
    },
    {
      "cell_type": "code",
      "source": [
        "alpha_power_EC, alpha_ratio_EC = calculate_alpha_ratio(epochs.get_data()[2,2,:], sfreq)\n",
        "print(\"Alpha Ratio in :\", alpha_ratio_EC)"
      ],
      "metadata": {
        "colab": {
          "base_uri": "https://localhost:8080/"
        },
        "id": "Jc9wD1LcN8Jv",
        "outputId": "610a3032-89d9-404d-cd05-b4791e23b850"
      },
      "execution_count": null,
      "outputs": [
        {
          "output_type": "stream",
          "name": "stdout",
          "text": [
            "Using data from preloaded Raw for 4 events and 14001 original time points ...\n",
            "Alpha Ratio in : 0.200237797217038\n"
          ]
        }
      ]
    },
    {
      "cell_type": "code",
      "source": [
        "alpha_power_EO, alpha_ratio_EO = calculate_alpha_ratio(epochs.get_data()[2,3,:], sfreq)\n",
        "print(\"Alpha Ratio in :\", alpha_ratio_EO)"
      ],
      "metadata": {
        "colab": {
          "base_uri": "https://localhost:8080/"
        },
        "id": "1lW093lDOS-y",
        "outputId": "2af713c8-c021-482c-dfbc-5644c8acf156"
      },
      "execution_count": null,
      "outputs": [
        {
          "output_type": "stream",
          "name": "stdout",
          "text": [
            "Using data from preloaded Raw for 4 events and 14001 original time points ...\n",
            "Alpha Ratio in : 0.15905261752315933\n"
          ]
        }
      ]
    },
    {
      "cell_type": "code",
      "source": [
        "plt.figure(figsize = (16,4))\n",
        "for i in range(len(raw.ch_names)-1):\n",
        "\n",
        "  plt.subplot(1,len(raw.ch_names)-1,i+1)\n",
        "\n",
        "  plt.title(raw.ch_names[i])\n",
        "  plt.bar([1,2],alpha_ratio_whole[:,i])"
      ],
      "metadata": {
        "id": "nF_AXkLnO1Mx",
        "colab": {
          "base_uri": "https://localhost:8080/",
          "height": 340
        },
        "outputId": "8157288e-c61f-46a5-deee-f7c3b8977c7c"
      },
      "execution_count": null,
      "outputs": [
        {
          "output_type": "display_data",
          "data": {
            "text/plain": [
              "<Figure size 1600x400 with 3 Axes>"
            ],
            "image/png": "[encoded data removed]"
          },
          "metadata": {}
        }
      ]
    }
  ],
  "metadata": {
    "colab": {
      "provenance": [],
      "include_colab_link": true
    },
    "kernelspec": {
      "display_name": "Python 3",
      "name": "python3"
    },
    "language_info": {
      "name": "python"
    }
  },
  "nbformat": 4,
  "nbformat_minor": 0
}